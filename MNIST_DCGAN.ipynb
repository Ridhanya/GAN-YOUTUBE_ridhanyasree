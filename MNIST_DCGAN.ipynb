{
  "nbformat": 4,
  "nbformat_minor": 0,
  "metadata": {
    "colab": {
      "name": "MNIST_DCGAN.ipynb",
      "provenance": [],
      "collapsed_sections": []
    },
    "kernelspec": {
      "name": "python3",
      "display_name": "Python 3"
    },
    "accelerator": "GPU"
  },
  "cells": [
    {
      "cell_type": "code",
      "metadata": {
        "id": "TEnmCJJD7EZf"
      },
      "source": [
        "import tensorflow as tf\r\n",
        "from tensorflow.keras.layers import (Dense, \r\n",
        "                                     BatchNormalization, \r\n",
        "                                     LeakyReLU, \r\n",
        "                                     Reshape, \r\n",
        "                                     Conv2DTranspose,\r\n",
        "                                     Conv2D,\r\n",
        "                                     Dropout,\r\n",
        "                                     Flatten)\r\n",
        "import matplotlib.pyplot as plt\r\n",
        "from tensorflow.keras.datasets import mnist"
      ],
      "execution_count": null,
      "outputs": []
    },
    {
      "cell_type": "code",
      "metadata": {
        "colab": {
          "base_uri": "https://localhost:8080/"
        },
        "id": "_gZIC9nuFTpF",
        "outputId": "d34ce82c-470c-47b0-e60c-2924c965b71b"
      },
      "source": [
        "(train_images, train_labels), (_, _) = tf.keras.datasets.mnist.load_data() \r\n",
        "\r\n",
        "\r\n",
        "train_images = train_images.reshape(train_images.shape[0], 28, 28, 1).astype('float32')\r\n",
        "train_images = (train_images - 127.5) / 127.5 # Normalize the images to [-1, 1]\r\n",
        "\r\n",
        "BUFFER_SIZE = 60000\r\n",
        "BATCH_SIZE = 256\r\n",
        "\r\n",
        "# Batch and shuffle the data\r\n",
        "train_dataset = tf.data.Dataset.from_tensor_slices(train_images).shuffle(BUFFER_SIZE).batch(BATCH_SIZE)\r\n"
      ],
      "execution_count": null,
      "outputs": [
        {
          "output_type": "stream",
          "text": [
            "Downloading data from https://storage.googleapis.com/tensorflow/tf-keras-datasets/mnist.npz\n",
            "11493376/11490434 [==============================] - 0s 0us/step\n"
          ],
          "name": "stdout"
        }
      ]
    },
    {
      "cell_type": "code",
      "metadata": {
        "colab": {
          "base_uri": "https://localhost:8080/"
        },
        "id": "aLN48U3ukRrF",
        "outputId": "ceb6fff7-85cc-46bf-f98c-fb895ad642f3"
      },
      "source": [
        "train_images.shape"
      ],
      "execution_count": null,
      "outputs": [
        {
          "output_type": "execute_result",
          "data": {
            "text/plain": [
              "(60000, 28, 28, 1)"
            ]
          },
          "metadata": {
            "tags": []
          },
          "execution_count": 3
        }
      ]
    },
    {
      "cell_type": "code",
      "metadata": {
        "id": "PkClBNn1hvX-"
      },
      "source": [
        "def generator_model():\r\n",
        "    model = tf.keras.Sequential()\r\n",
        "    model.add(Dense(7*7*256, use_bias=False, input_shape=(100,)))\r\n",
        "    model.add(BatchNormalization())\r\n",
        "    model.add(LeakyReLU())\r\n",
        "\r\n",
        "    model.add(Reshape((7, 7, 256)))\r\n",
        "    assert model.output_shape == (None, 7, 7, 256) \r\n",
        "\r\n",
        "    model.add(Conv2DTranspose(128, (5, 5), strides=(1, 1), padding='same', use_bias=False))\r\n",
        "    assert model.output_shape == (None, 7, 7, 128)\r\n",
        "    model.add(BatchNormalization())\r\n",
        "    model.add(LeakyReLU())\r\n",
        "\r\n",
        "    model.add(Conv2DTranspose(64, (5, 5), strides=(2, 2), padding='same', use_bias=False))\r\n",
        "    assert model.output_shape == (None, 14, 14, 64)\r\n",
        "    model.add(BatchNormalization())\r\n",
        "    model.add(LeakyReLU())\r\n",
        "\r\n",
        "    model.add(Conv2DTranspose(1, (5, 5), strides=(2, 2), padding='same', use_bias=False, activation='tanh'))\r\n",
        "    assert model.output_shape == (None, 28, 28, 1)\r\n",
        "\r\n",
        "    return model\r\n"
      ],
      "execution_count": null,
      "outputs": []
    },
    {
      "cell_type": "code",
      "metadata": {
        "id": "OPs4jbqanMkq"
      },
      "source": [
        "def discriminator_model():\r\n",
        "    model = tf.keras.Sequential()\r\n",
        "    \r\n",
        "    model.add(Conv2D(64, (5, 5), strides=(2, 2), padding='same', input_shape=[28, 28, 1]))\r\n",
        "    model.add(LeakyReLU())\r\n",
        "   \r\n",
        "\r\n",
        "    model.add(Conv2D(128, (5, 5), strides=(2, 2), padding='same'))\r\n",
        "    model.add(LeakyReLU())\r\n",
        "    \r\n",
        "\r\n",
        "    model.add(Flatten())\r\n",
        "    model.add(Dense(1))\r\n",
        "\r\n",
        "    return model"
      ],
      "execution_count": null,
      "outputs": []
    },
    {
      "cell_type": "code",
      "metadata": {
        "id": "NzfJ-RyQp9JK"
      },
      "source": [
        "cross_entropy = tf.keras.losses.BinaryCrossentropy(from_logits=True)\r\n",
        "\r\n",
        "def discriminator_loss(real_output, fake_output):\r\n",
        "    real_loss = cross_entropy(tf.ones_like(real_output), real_output)\r\n",
        "    fake_loss = cross_entropy(tf.zeros_like(fake_output), fake_output)\r\n",
        "    total_loss = real_loss + fake_loss\r\n",
        "    return total_loss\r\n",
        "\r\n",
        "def generator_loss(fake_output):\r\n",
        "    return cross_entropy(tf.ones_like(fake_output), fake_output)\r\n",
        "\r\n",
        "generator_optimizer = tf.keras.optimizers.Adam(1e-4)\r\n",
        "discriminator_optimizer = tf.keras.optimizers.Adam(1e-4)"
      ],
      "execution_count": null,
      "outputs": []
    },
    {
      "cell_type": "code",
      "metadata": {
        "id": "VrVmRSNDxNq6"
      },
      "source": [
        "EPOCHS = 60\r\n",
        "\r\n",
        "num_examples_to_generate = 16\r\n",
        "noise_dim = 100\r\n",
        "seed = tf.random.normal([num_examples_to_generate, noise_dim])"
      ],
      "execution_count": null,
      "outputs": []
    },
    {
      "cell_type": "code",
      "metadata": {
        "id": "i_OQ6F1Fy9FR"
      },
      "source": [
        "generator=generator_model()\r\n",
        "discriminator=discriminator_model()"
      ],
      "execution_count": null,
      "outputs": []
    },
    {
      "cell_type": "code",
      "metadata": {
        "id": "zeC7wdSmxPfA"
      },
      "source": [
        "\r\n",
        "@tf.function\r\n",
        "def train_step(images):\r\n",
        "  \r\n",
        "   \r\n",
        "    noise = tf.random.normal([BATCH_SIZE, noise_dim])\r\n",
        "    \r\n",
        "    g,d=0,0\r\n",
        "    with tf.GradientTape() as gen_tape, tf.GradientTape() as disc_tape:\r\n",
        "      generated_images = generator(noise, training=True)\r\n",
        "\r\n",
        "      real_output = discriminator(images, training=True)\r\n",
        "      fake_output = discriminator(generated_images, training=True)\r\n",
        "\r\n",
        "      gen_loss = generator_loss(fake_output)\r\n",
        "      g=gen_loss\r\n",
        "      disc_loss = discriminator_loss(real_output, fake_output)\r\n",
        "      d=disc_loss\r\n",
        "\r\n",
        "    \r\n",
        "    \r\n",
        "   \r\n",
        "\r\n",
        "    \r\n",
        "    gradients_of_generator = gen_tape.gradient(gen_loss, \r\n",
        "                                               generator.trainable_variables)\r\n",
        "    gradients_of_discriminator = disc_tape.gradient(disc_loss, \r\n",
        "                                                discriminator.trainable_variables)\r\n",
        "    \r\n",
        "   \r\n",
        "    generator_optimizer.apply_gradients(zip(gradients_of_generator, generator.trainable_variables))\r\n",
        "    discriminator_optimizer.apply_gradients(zip(gradients_of_discriminator, discriminator.trainable_variables))\r\n",
        "    return g,d"
      ],
      "execution_count": null,
      "outputs": []
    },
    {
      "cell_type": "code",
      "metadata": {
        "id": "FtO412th58xN"
      },
      "source": [
        "import time\r\n",
        "from IPython import display \r\n",
        "\r\n",
        "def train(dataset, epochs):\r\n",
        "  \r\n",
        "  for epoch in range(epochs):\r\n",
        "    start = time.time()\r\n",
        "    g_loss,d_loss=0,0\r\n",
        "    for image_batch in dataset:\r\n",
        "     \r\n",
        "      g_loss,d_loss=train_step(image_batch)\r\n",
        "      \r\n",
        "\r\n",
        "\r\n",
        "    # 2 - Produce images for the GIF as we go\r\n",
        "    display.clear_output(wait=True)\r\n",
        "    generate_and_save_images(generator,\r\n",
        "                             epoch + 1,\r\n",
        "                             seed)\r\n",
        "\r\n",
        "    \r\n",
        "    \r\n",
        "\r\n",
        "   \r\n",
        "    print ('Time for epoch {} is {} sec'.format(epoch + 1, time.time()-start))\r\n",
        "    print(\"generator-loss: \",g_loss)\r\n",
        "    print(\"discriminator-loss: \",d_loss)\r\n",
        "\r\n",
        " \r\n",
        "  display.clear_output(wait=True)\r\n",
        "  generate_and_save_images(generator,\r\n",
        "                           epochs,\r\n",
        "                           seed)"
      ],
      "execution_count": null,
      "outputs": []
    },
    {
      "cell_type": "code",
      "metadata": {
        "id": "INGP8xh06Jid"
      },
      "source": [
        "def generate_and_save_images(model, epoch, test_input):\r\n",
        " \r\n",
        "  predictions = model(test_input, training=False)\r\n",
        " \r\n",
        "  fig = plt.figure(figsize=(4,4))\r\n",
        "  for i in range(predictions.shape[0]):\r\n",
        "      plt.subplot(4, 4, i+1)\r\n",
        "      plt.imshow(predictions[i, :, :, 0] * 127.5 + 127.5, cmap='gray')\r\n",
        "      plt.axis('off')\r\n",
        " \r\n",
        " \r\n",
        "  plt.show()"
      ],
      "execution_count": null,
      "outputs": []
    },
    {
      "cell_type": "code",
      "metadata": {
        "colab": {
          "base_uri": "https://localhost:8080/",
          "height": 248
        },
        "id": "U-06ZSEu6NRk",
        "outputId": "0f9aab0b-6f07-42f5-b13d-c82b91be340c"
      },
      "source": [
        "train(train_dataset, EPOCHS)"
      ],
      "execution_count": null,
      "outputs": [
        {
          "output_type": "display_data",
          "data": {
            "image/png": "[encoded data removed]",
            "text/plain": [
              "<Figure size 288x288 with 16 Axes>"
            ]
          },
          "metadata": {
            "tags": [],
            "needs_background": "light"
          }
        }
      ]
    },
    {
      "cell_type": "code",
      "metadata": {
        "id": "VWlx7GIO6R0Y"
      },
      "source": [
        ""
      ],
      "execution_count": null,
      "outputs": []
    }
  ]
}